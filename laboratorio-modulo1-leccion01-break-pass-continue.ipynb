{
 "cells": [
  {
   "cell_type": "markdown",
   "metadata": {},
   "source": [
    "\n",
    "<div style=\"text-align: center;\">\n",
    "  <img src=\"https://github.com/Hack-io-Data/Imagenes/blob/main/01-LogosHackio/logo_celeste@4x.png?raw=true\" alt=\"esquema\" />\n",
    "</div>\n"
   ]
  },
  {
   "cell_type": "markdown",
   "metadata": {},
   "source": [
    "# Laboratorio de Python: break(), pass(), continue()"
   ]
  },
  {
   "cell_type": "markdown",
   "metadata": {},
   "source": [
    "## Ejercicio 1: Validación de datos numéricos. \n",
    "\n",
    "Escribe un bucle que lea una lista de números y detenga la ejecución si encuentra un valor negativo. Muestra un mensaje indicando el número negativo encontrado.\n"
   ]
  },
  {
   "cell_type": "code",
   "execution_count": 2,
   "metadata": {},
   "outputs": [
    {
     "name": "stdout",
     "output_type": "stream",
     "text": [
      "El número -1 es negativo\n"
     ]
    }
   ],
   "source": [
    "listanumeros = [1,2,3,-1,5]\n",
    "\n",
    "for i in listanumeros:\n",
    "    if i <0:\n",
    "        print(f\"El número {i} es negativo\")\n",
    "        break"
   ]
  },
  {
   "cell_type": "markdown",
   "metadata": {},
   "source": [
    "\n",
    "## Ejercicio 2: Filtrado de datos\n",
    "\n",
    "Escribe un bucle que imprima los números de una lista, pero que omita los números pares.\n"
   ]
  },
  {
   "cell_type": "code",
   "execution_count": 5,
   "metadata": {},
   "outputs": [
    {
     "name": "stdout",
     "output_type": "stream",
     "text": [
      "2\n",
      "6\n",
      "4\n"
     ]
    }
   ],
   "source": [
    "listanumeros = [1,2,3,-1,5,6,4]\n",
    "\n",
    "for i in listanumeros:\n",
    "    if i % 2 == 0:\n",
    "        print(f\"{i}\")\n",
    "        "
   ]
  },
  {
   "cell_type": "markdown",
   "metadata": {},
   "source": [
    "## Ejercicio 3: Búsqueda de un valor\n",
    "\n",
    "Escribe un programa que busque un valor específico en una lista y detenga la búsqueda cuando lo encuentre. Si se encuentra, muestra un mensaje.\n"
   ]
  },
  {
   "cell_type": "code",
   "execution_count": 7,
   "metadata": {},
   "outputs": [
    {
     "name": "stdout",
     "output_type": "stream",
     "text": [
      "El valor 3 está en la lista\n"
     ]
    }
   ],
   "source": [
    "listanumeros = [1,2,3,-1,5,6,4]\n",
    "valorbuscado = 3\n",
    "\n",
    "for i in listanumeros:\n",
    "    if i == valorbuscado:\n",
    "        print(f\"El valor {valorbuscado} está en la lista\")\n",
    "        break"
   ]
  },
  {
   "cell_type": "markdown",
   "metadata": {},
   "source": [
    "## Ejercicio 4: Estructura de código incompleto\n",
    "\n",
    "Define una función que aún no tenga lógica implementada, pero que se pueda ejecutar sin errores utilizando `pass`."
   ]
  },
  {
   "cell_type": "code",
   "execution_count": 9,
   "metadata": {},
   "outputs": [],
   "source": [
    "def codigo_incompleto():\n",
    "    pass"
   ]
  },
  {
   "cell_type": "markdown",
   "metadata": {},
   "source": [
    "## Ejercicio 5: Validación condicional\n",
    "\n",
    "Escribe un bucle que verifique una lista de nombres. Si encuentra un nombre vacío (cadena vacía), salta esa iteración y continúa con los demás nombres.\n"
   ]
  },
  {
   "cell_type": "code",
   "execution_count": 15,
   "metadata": {},
   "outputs": [
    {
     "name": "stdout",
     "output_type": "stream",
     "text": [
      "Jose\n",
      "Jorge\n",
      "Ana\n",
      "Maria\n"
     ]
    }
   ],
   "source": [
    "lista_nombres = [\"Jose\",\"Jorge\",\"\",\"Ana\",\"Maria\",\"\"]\n",
    "\n",
    "for n in lista_nombres:\n",
    "    if n == \"\":\n",
    "        continue\n",
    "    \n",
    "    else:\n",
    "        print(f\"{n}\")\n",
    "    "
   ]
  },
  {
   "cell_type": "markdown",
   "metadata": {},
   "source": [
    "## Ejercicio 6: Búsqueda de claves en un diccionario\n",
    "\n",
    "Escribe un programa que recorra un diccionario y detenga la búsqueda si encuentra una clave específica pasada por el usuario.\n"
   ]
  },
  {
   "cell_type": "code",
   "execution_count": 26,
   "metadata": {},
   "outputs": [],
   "source": [
    "diccionario = {\"colores\":'rojo',\n",
    "               \"numeros\":24,\n",
    "               \"ciudades\":'Madrid'}\n",
    "clave = 'numeros'\n",
    "\n",
    "for k,v in diccionario.items(): #.items permite acceder a tanto el key como el value\n",
    "    if diccionario[k] == 'numeros':\n",
    "        break\n"
   ]
  },
  {
   "cell_type": "markdown",
   "metadata": {},
   "source": [
    "## Ejercicio 7: Bucle con múltiples excepciones\n",
    "\n",
    "Escribe un bucle que procese una lista de operaciones matemáticas, omitiendo las operaciones que intenten dividir por cero.\n"
   ]
  },
  {
   "cell_type": "code",
   "execution_count": 43,
   "metadata": {},
   "outputs": [
    {
     "name": "stdout",
     "output_type": "stream",
     "text": [
      "11\n",
      "10\n",
      "Erro\n"
     ]
    }
   ],
   "source": [
    "listaoperaciones = []\n",
    "\n",
    "try:\n",
    "    while True:\n",
    "        num1 = int(input(\"Introduce un número\"))\n",
    "        num2 = int(input(\"Introduce otro número\"))\n",
    "        operacion = input(\"Introduce: suma, resta, multiplicación o división\")\n",
    "\n",
    "        if operacion == \"suma\":\n",
    "            suma = num1 + num2\n",
    "            listaoperaciones.append(suma)\n",
    "            print(suma)\n",
    "\n",
    "        elif operacion == \"resta\":\n",
    "            resta = num1 - num2\n",
    "            listaoperaciones.append(resta)\n",
    "            print(resta)\n",
    "\n",
    "        elif operacion == \"multiplicación\":\n",
    "            mult = num1 * num2\n",
    "            listaoperaciones.append(mult)\n",
    "            print(mult)\n",
    "\n",
    "        elif operacion == \"división\":\n",
    "            if num1 or num2 == 0:\n",
    "                print(\"No es posible dividir por 0\")\n",
    "                pass\n",
    "            else:\n",
    "                div = num1 / num2\n",
    "                listaoperaciones.append(div)\n",
    "                print(div)\n",
    "\n",
    "except:\n",
    "    print(\"Error\")"
   ]
  },
  {
   "cell_type": "markdown",
   "metadata": {},
   "source": [
    "## Ejercicio 8: Búsqueda en una lista anidada\n",
    "\n",
    "Escribe un programa que recorra una lista de listas y detenga la búsqueda cuando encuentre un valor mayor a 50.\n"
   ]
  },
  {
   "cell_type": "code",
   "execution_count": 111,
   "metadata": {},
   "outputs": [
    {
     "name": "stdout",
     "output_type": "stream",
     "text": [
      "El valor es 70\n"
     ]
    }
   ],
   "source": [
    "matriz = [[1,2,3],[4,5,6,50,70],[54,14,24]]\n",
    "\n",
    "found = False\n",
    "\n",
    "for i in matriz:\n",
    "    for j in i:\n",
    "        if j > 50:\n",
    "            found = True\n",
    "            print(f\"El valor es {j}\")\n",
    "            break\n",
    "    if found:\n",
    "        break\n"
   ]
  },
  {
   "cell_type": "markdown",
   "metadata": {},
   "source": [
    "## Ejercicio 9: Evaluación de series temporales\n",
    "\n",
    "Escribe un programa que recorra una lista de datos de series temporales y se detenga si encuentra un valor atípico (mayor a 100).\n"
   ]
  },
  {
   "cell_type": "code",
   "execution_count": 53,
   "metadata": {},
   "outputs": [
    {
     "name": "stdout",
     "output_type": "stream",
     "text": [
      "1\n",
      "3\n",
      "5\n",
      "7\n",
      "9\n",
      "11\n",
      "13\n",
      "15\n",
      "17\n",
      "19\n",
      "21\n",
      "23\n",
      "25\n",
      "27\n",
      "29\n",
      "31\n",
      "33\n",
      "35\n",
      "37\n",
      "39\n",
      "41\n",
      "43\n",
      "45\n",
      "47\n",
      "49\n",
      "51\n",
      "53\n",
      "55\n",
      "57\n",
      "59\n",
      "61\n",
      "63\n",
      "65\n",
      "67\n",
      "69\n",
      "71\n",
      "73\n",
      "75\n",
      "77\n",
      "79\n",
      "81\n",
      "83\n",
      "85\n",
      "87\n",
      "89\n",
      "91\n",
      "93\n",
      "95\n",
      "97\n",
      "99\n"
     ]
    }
   ],
   "source": [
    "serie = []\n",
    "for i in range (1,150,2):\n",
    "    serie.append(i)\n",
    "\n",
    "for i in serie:\n",
    "    if i <100:\n",
    "        print(i)\n",
    "    else:\n",
    "        break"
   ]
  },
  {
   "cell_type": "markdown",
   "metadata": {},
   "source": [
    "## Ejercicio 10: Iteración con valores faltantes\n",
    "\n",
    "Crea un bucle que recorra una lista de datos de ventas y salte los valores faltantes representados por `None`."
   ]
  },
  {
   "cell_type": "code",
   "execution_count": 47,
   "metadata": {},
   "outputs": [
    {
     "name": "stdout",
     "output_type": "stream",
     "text": [
      "100\n",
      "200\n",
      "300\n",
      "400\n"
     ]
    }
   ],
   "source": [
    "lista_ventas = [100,200,None,300,400]\n",
    "\n",
    "for i in lista_ventas:\n",
    "    if i == None:\n",
    "        pass\n",
    "    else:\n",
    "        print(i)"
   ]
  },
  {
   "cell_type": "markdown",
   "metadata": {},
   "source": [
    "## Ejercicio 11: Control de flujo en bucles anidados\n",
    "\n",
    "Escribe un bucle que recorra la matriz dada y se detenga si se encuentra un número negativo, mostrando su posición.\n",
    "\n"
   ]
  },
  {
   "cell_type": "code",
   "execution_count": 113,
   "metadata": {},
   "outputs": [
    {
     "name": "stdout",
     "output_type": "stream",
     "text": [
      "El número negativo es -2 y se encuentra en la posición 1\n"
     ]
    }
   ],
   "source": [
    "matriz = [[1,2,3],[1,-2,3],[1,2,3]]\n",
    "\n",
    "for i in matriz:\n",
    "    for j in i:\n",
    "        if j < 0:\n",
    "            indice1 = i.index(j)\n",
    "            indice2 = matriz.index(i)\n",
    "            print(f\"El número negativo es {j} y se encuentra en la posición {indice2}\")\n"
   ]
  },
  {
   "cell_type": "markdown",
   "metadata": {},
   "source": [
    "## Ejercicio 12: Placeholder para funciones incompletas\n",
    "\n",
    "Escribe una función que tenga un bloque de control que aún no esté implementado, utilizando `pass` para que no genere errores."
   ]
  },
  {
   "cell_type": "code",
   "execution_count": 98,
   "metadata": {},
   "outputs": [],
   "source": [
    "def funcion_incompleta(numero):\n",
    "    \"\"\"Función que utiliza pass para un bloque de control no implementado\n",
    "\n",
    "    Args:\n",
    "        numero (_type_): Argumento de la función\n",
    "    \"\"\"    \n",
    "    if numero >0: #Sólo ejemplo\n",
    "        pass\n",
    "\n",
    "funcion_incompleta(-3)"
   ]
  }
 ],
 "metadata": {
  "kernelspec": {
   "display_name": "contenido",
   "language": "python",
   "name": "python3"
  },
  "language_info": {
   "codemirror_mode": {
    "name": "ipython",
    "version": 3
   },
   "file_extension": ".py",
   "mimetype": "text/x-python",
   "name": "python",
   "nbconvert_exporter": "python",
   "pygments_lexer": "ipython3",
   "version": "3.9.6"
  }
 },
 "nbformat": 4,
 "nbformat_minor": 2
}
